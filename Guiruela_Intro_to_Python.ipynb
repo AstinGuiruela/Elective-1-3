{
  "nbformat": 4,
  "nbformat_minor": 0,
  "metadata": {
    "colab": {
      "name": "Guiruela - Intro to Python",
      "provenance": [],
      "collapsed_sections": [],
      "authorship_tag": "ABX9TyMjcH6u0CuBLXZ1ZcNOhVAl",
      "include_colab_link": true
    },
    "kernelspec": {
      "name": "python3",
      "display_name": "Python 3"
    },
    "language_info": {
      "name": "python"
    }
  },
  "cells": [
    {
      "cell_type": "markdown",
      "metadata": {
        "id": "view-in-github",
        "colab_type": "text"
      },
      "source": [
        "<a href=\"https://colab.research.google.com/github/AstinGuiruela/Elective-1-3/blob/main/Guiruela_Intro_to_Python.ipynb\" target=\"_parent\"><img src=\"https://colab.research.google.com/assets/colab-badge.svg\" alt=\"Open In Colab\"/></a>"
      ]
    },
    {
      "cell_type": "markdown",
      "source": [
        "##Python Indention"
      ],
      "metadata": {
        "id": "XYM3W752D0MY"
      }
    },
    {
      "cell_type": "code",
      "execution_count": 1,
      "metadata": {
        "colab": {
          "base_uri": "https://localhost:8080/"
        },
        "id": "y75c-5arDnnf",
        "outputId": "b64b6851-a083-4741-f5f0-b480834072d8"
      },
      "outputs": [
        {
          "output_type": "stream",
          "name": "stdout",
          "text": [
            "Five is greater than two\n"
          ]
        }
      ],
      "source": [
        "if 5<2:\n",
        "  print(\"Five is less than two\")\n",
        "else:\n",
        "  print(\"Five is greater than two\")"
      ]
    },
    {
      "cell_type": "markdown",
      "source": [
        "Python Comments"
      ],
      "metadata": {
        "id": "WtmDJ31vECAW"
      }
    },
    {
      "cell_type": "code",
      "source": [
        "# Annyeong, World\n",
        "\n",
        "print(\"Annyeong, World\")\n",
        "print(\"Welcome to Python Programming\")"
      ],
      "metadata": {
        "colab": {
          "base_uri": "https://localhost:8080/"
        },
        "id": "TnF-gmbjEDrO",
        "outputId": "7d171b3d-2e45-47b9-998e-bf14f8f69be7"
      },
      "execution_count": 2,
      "outputs": [
        {
          "output_type": "stream",
          "name": "stdout",
          "text": [
            "Annyeong, World\n",
            "Welcome to Python Programming\n"
          ]
        }
      ]
    }
  ]
}